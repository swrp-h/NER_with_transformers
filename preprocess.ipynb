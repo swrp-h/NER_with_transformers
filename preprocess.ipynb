{
  "nbformat": 4,
  "nbformat_minor": 0,
  "metadata": {
    "colab": {
      "provenance": [],
      "authorship_tag": "ABX9TyPQagbMdTbGZroKHiUizos9",
      "include_colab_link": true
    },
    "kernelspec": {
      "name": "python3",
      "display_name": "Python 3"
    },
    "language_info": {
      "name": "python"
    }
  },
  "cells": [
    {
      "cell_type": "markdown",
      "metadata": {
        "id": "view-in-github",
        "colab_type": "text"
      },
      "source": [
        "<a href=\"https://colab.research.google.com/github/swrp-h/NER_with_transformers/blob/main/preprocess.ipynb\" target=\"_parent\"><img src=\"https://colab.research.google.com/assets/colab-badge.svg\" alt=\"Open In Colab\"/></a>"
      ]
    },
    {
      "cell_type": "markdown",
      "source": [
        "# Preprocessor for the MULTINERD dataset\n",
        "\n",
        "The below notebook retains the NER labels PERSON(PER), ORGANIZATION(ORG), LOCATION(LOC), DISEASES(DIS), and ANIMAL(ANIM) and reassigns the others as 'O' (non-NE). The code is meant for filtering the English subset of the [Multinerd Dataset by Babelscape](https://huggingface.co/datasets/Babelscape/multinerd). The dataset has been uploaded [here](https://huggingface.co/datasets/shrop/multinerd_en_filtered)."
      ],
      "metadata": {
        "id": "beL9_spYQjPs"
      }
    },
    {
      "cell_type": "code",
      "execution_count": null,
      "metadata": {
        "id": "e4NRD32Vm41K"
      },
      "outputs": [],
      "source": [
        "import pandas as pd"
      ]
    },
    {
      "cell_type": "code",
      "source": [
        "# Uncomment if using Colab\n",
        "#from google.colab import drive\n",
        "#drive.mount('/content/drive')"
      ],
      "metadata": {
        "colab": {
          "base_uri": "https://localhost:8080/"
        },
        "id": "htNhmazpn9bp",
        "outputId": "62048b61-d784-47f8-f216-acfd2b06a14d"
      },
      "execution_count": null,
      "outputs": [
        {
          "output_type": "stream",
          "name": "stdout",
          "text": [
            "Drive already mounted at /content/drive; to attempt to forcibly remount, call drive.mount(\"/content/drive\", force_remount=True).\n"
          ]
        }
      ]
    },
    {
      "cell_type": "code",
      "source": [
        "DATASET_DIR = \"PATH_TO_DATASET_DIRECTORY\""
      ],
      "metadata": {
        "id": "y-OwpZ2KSBsJ"
      },
      "execution_count": null,
      "outputs": []
    },
    {
      "cell_type": "code",
      "source": [
        "def replace_non_required_tags(datafile_path):\n",
        "    \"\"\"\n",
        "    Replaces non-required tags in the \"ner_tags\" column and reassigns them as 0. Saves the filtered dataset as a JSONL file\n",
        "\n",
        "    Args:\n",
        "        datafile_path (str): The path to the input JSONL file.\n",
        "\n",
        "    Returns:\n",
        "        None\n",
        "    \"\"\"\n",
        "    df = pd.read_json(path_or_buf=datafile_path, lines=True)\n",
        "    required_tags = [0,1,2,3,4,5,6,7,8,13,14]\n",
        "    for i in df[\"ner_tags\"]:\n",
        "      for index, j in enumerate(i):\n",
        "        if j not in required_tags:\n",
        "          i[index] = 0\n",
        "        if j == 13:\n",
        "          i[index] = 9\n",
        "        if j == 14:\n",
        "          i[index] = 10\n",
        "    df.to_json(f\"{datafile_path.split('.')[0]}_filtered.jsonl\", orient=\"records\", lines=True)"
      ],
      "metadata": {
        "id": "GydfILsXqsz-"
      },
      "execution_count": null,
      "outputs": []
    },
    {
      "cell_type": "code",
      "source": [
        "splits = ['train', 'val', 'test']\n",
        "\n",
        "for split in splits:\n",
        "  replace_non_required_tags(f\"{DATASET_DIR}/{split}_en.jsonl\")"
      ],
      "metadata": {
        "id": "Ia6BrkXTvdrg"
      },
      "execution_count": null,
      "outputs": []
    }
  ]
}